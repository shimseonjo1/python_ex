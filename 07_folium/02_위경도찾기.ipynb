{
 "cells": [
  {
   "cell_type": "code",
   "execution_count": 14,
   "id": "ed4354ef-464e-4c45-9267-64133bcb21a4",
   "metadata": {},
   "outputs": [],
   "source": [
    "import json\n",
    "\n",
    "with open('key.json','r') as f:\n",
    "    key = json.load(f)\n",
    "    \n",
    "REST_API_KEY = key['key']"
   ]
  },
  {
   "cell_type": "raw",
   "id": "834e2054-574e-406b-a28e-28f611dfb5c0",
   "metadata": {},
   "source": [
    "curl -v -X GET \"https://dapi.kakao.com/v2/local/search/address.json\" \\\n",
    "  -H \"Authorization: KakaoAK ${REST_API_KEY}\" \\\n",
    "  --data-urlencode \"query=전북 삼성동 100\" "
   ]
  },
  {
   "cell_type": "code",
   "execution_count": 15,
   "id": "b36152dc-d6a2-48b9-abf7-c4ddcbe4a1a7",
   "metadata": {},
   "outputs": [],
   "source": [
    "import requests"
   ]
  },
  {
   "cell_type": "code",
   "execution_count": 19,
   "id": "e921c341-6fd3-4a77-8a51-320bd5002283",
   "metadata": {},
   "outputs": [],
   "source": [
    "url = \"https://dapi.kakao.com/v2/local/search/address.json?query={}\".format('제주특별자치도 제주시 중앙로25길 17')\n",
    "headers = {'Authorization':f'KakaoAK {REST_API_KEY}'}\n",
    "res = requests.get(url,headers=headers)\n",
    "jsondata = res.json()"
   ]
  },
  {
   "cell_type": "code",
   "execution_count": 20,
   "id": "5957a913-af6c-4345-a98b-21c8eed90c95",
   "metadata": {},
   "outputs": [
    {
     "data": {
      "text/plain": [
       "('33.5068653918458', '126.526722329545')"
      ]
     },
     "execution_count": 20,
     "metadata": {},
     "output_type": "execute_result"
    }
   ],
   "source": [
    "jsondata['documents'][0]['address']['y'],jsondata['documents'][0]['address']['x']"
   ]
  },
  {
   "cell_type": "code",
   "execution_count": 21,
   "id": "a8ab169e-3086-4b6e-bf0e-f6832f68c89a",
   "metadata": {
    "collapsed": true,
    "jupyter": {
     "outputs_hidden": true
    },
    "tags": []
   },
   "outputs": [
    {
     "data": {
      "text/plain": [
       "{'documents': [{'address': {'address_name': '제주특별자치도 제주시 이도일동 1695-10',\n",
       "    'b_code': '5011010300',\n",
       "    'h_code': '5011053000',\n",
       "    'main_address_no': '1695',\n",
       "    'mountain_yn': 'N',\n",
       "    'region_1depth_name': '제주특별자치도',\n",
       "    'region_2depth_name': '제주시',\n",
       "    'region_3depth_h_name': '이도1동',\n",
       "    'region_3depth_name': '이도일동',\n",
       "    'sub_address_no': '10',\n",
       "    'x': '126.526722329545',\n",
       "    'y': '33.5068653918458'},\n",
       "   'address_name': '제주특별자치도 제주시 중앙로25길 17',\n",
       "   'address_type': 'ROAD_ADDR',\n",
       "   'road_address': {'address_name': '제주특별자치도 제주시 중앙로25길 17',\n",
       "    'building_name': '이도1동주민센터',\n",
       "    'main_building_no': '17',\n",
       "    'region_1depth_name': '제주특별자치도',\n",
       "    'region_2depth_name': '제주시',\n",
       "    'region_3depth_name': '이도일동',\n",
       "    'road_name': '중앙로25길',\n",
       "    'sub_building_no': '',\n",
       "    'underground_yn': 'N',\n",
       "    'x': '126.526722329545',\n",
       "    'y': '33.5068653918458',\n",
       "    'zone_no': '63194'},\n",
       "   'x': '126.526722329545',\n",
       "   'y': '33.5068653918458'}],\n",
       " 'meta': {'is_end': True, 'pageable_count': 1, 'total_count': 1}}"
      ]
     },
     "execution_count": 21,
     "metadata": {},
     "output_type": "execute_result"
    }
   ],
   "source": [
    "jsondata"
   ]
  },
  {
   "cell_type": "raw",
   "id": "f4a78e95-9aa5-45fd-84ac-d31528f0737a",
   "metadata": {},
   "source": [
    "curl -v -X GET \"https://dapi.kakao.com/v2/local/search/keyword.json?y=37.514322572335935&x=127.06283102249932&radius=20000\" \\\n",
    "  -H \"Authorization: KakaoAK ${REST_API_KEY}\" \\\n",
    "  --data-urlencode \"query=카카오프렌즈\" "
   ]
  },
  {
   "cell_type": "code",
   "execution_count": 22,
   "id": "6c791a47-03f5-4922-b69e-e75d43466977",
   "metadata": {},
   "outputs": [],
   "source": [
    "query='카카오프렌즈'\n",
    "y=37.514322572335935\n",
    "x=127.06283102249932\n",
    "radius=2000\n",
    "url = f\"https://dapi.kakao.com/v2/local/search/keyword.json?y={y}&x={x}&radius={radius}&query={query}\"\n",
    "headers = {'Authorization':f'KakaoAK {REST_API_KEY}'}\n",
    "res = requests.get(url,headers=headers)\n",
    "jsondata = res.json()"
   ]
  },
  {
   "cell_type": "code",
   "execution_count": 23,
   "id": "9d50bc91-d4df-4243-8cb2-a9ec046b7926",
   "metadata": {},
   "outputs": [],
   "source": [
    "query='제주특별자치도 제주시 중앙로25길 17'\n",
    "url = f\"https://dapi.kakao.com/v2/local/search/keyword.json?category_group_code=PO3&query={query}\"\n",
    "headers = {'Authorization':f'KakaoAK {REST_API_KEY}'}\n",
    "res = requests.get(url,headers=headers)\n",
    "jsondata = res.json()"
   ]
  },
  {
   "cell_type": "code",
   "execution_count": 24,
   "id": "fd7ee5f6-efd3-4370-9413-bbfbd014cffb",
   "metadata": {
    "tags": []
   },
   "outputs": [
    {
     "data": {
      "text/plain": [
       "{'documents': [{'address_name': '제주특별자치도 제주시 이도1동 1695-10',\n",
       "   'category_group_code': 'PO3',\n",
       "   'category_group_name': '공공기관',\n",
       "   'category_name': '사회,공공기관 > 지방행정기관 > 행정복지센터 > 주민센터',\n",
       "   'distance': '',\n",
       "   'id': '8544450',\n",
       "   'phone': '064-728-1530',\n",
       "   'place_name': '이도1동 주민자치센터',\n",
       "   'place_url': 'http://place.map.kakao.com/8544450',\n",
       "   'road_address_name': '제주특별자치도 제주시 중앙로25길 17',\n",
       "   'x': '126.526976882749',\n",
       "   'y': '33.5069402044009'}],\n",
       " 'meta': {'is_end': True,\n",
       "  'pageable_count': 1,\n",
       "  'same_name': {'keyword': '',\n",
       "   'region': [],\n",
       "   'selected_region': '제주 제주시 중앙로25길'},\n",
       "  'total_count': 1}}"
      ]
     },
     "execution_count": 24,
     "metadata": {},
     "output_type": "execute_result"
    }
   ],
   "source": [
    "jsondata"
   ]
  },
  {
   "cell_type": "code",
   "execution_count": 1,
   "id": "1dbd8177-e832-4907-a609-278b0514d9f4",
   "metadata": {},
   "outputs": [
    {
     "name": "stdout",
     "output_type": "stream",
     "text": [
      "Requirement already satisfied: geopy in /opt/homebrew/Caskroom/miniforge/base/lib/python3.9/site-packages (2.3.0)\n",
      "Requirement already satisfied: geographiclib<3,>=1.52 in /opt/homebrew/Caskroom/miniforge/base/lib/python3.9/site-packages (from geopy) (2.0)\n",
      "\u001b[33mDEPRECATION: mecab-python 0.996-ko-0.9.2 has a non-standard version number. pip 24.0 will enforce this behaviour change. A possible replacement is to upgrade to a newer version of mecab-python or contact the author to suggest that they release a version with a conforming version number. Discussion can be found at https://github.com/pypa/pip/issues/12063\u001b[0m\u001b[33m\n",
      "\u001b[0m"
     ]
    }
   ],
   "source": [
    "!pip install geopy"
   ]
  },
  {
   "cell_type": "code",
   "execution_count": 2,
   "id": "3a4406ae-c121-4f01-8635-a9088c04de3b",
   "metadata": {},
   "outputs": [],
   "source": [
    "from geopy.geocoders import Nominatim"
   ]
  },
  {
   "cell_type": "code",
   "execution_count": 10,
   "id": "2358b0ed-2bab-40c1-837f-9d59ee3c5a0a",
   "metadata": {},
   "outputs": [],
   "source": [
    "geolocator = Nominatim(user_agent='test')"
   ]
  },
  {
   "cell_type": "code",
   "execution_count": 11,
   "id": "eb9a1796-72e0-4bd7-8d4f-0deac8b04f93",
   "metadata": {},
   "outputs": [],
   "source": [
    "result = geolocator.geocode('제주특별자치도 제주시 중앙로25길 17')"
   ]
  },
  {
   "cell_type": "code",
   "execution_count": 12,
   "id": "100b3f0e-a765-4347-b9ad-f4375e7f7b7b",
   "metadata": {},
   "outputs": [
    {
     "data": {
      "text/plain": [
       "33.506908"
      ]
     },
     "execution_count": 12,
     "metadata": {},
     "output_type": "execute_result"
    }
   ],
   "source": [
    "result.latitude"
   ]
  },
  {
   "cell_type": "code",
   "execution_count": 13,
   "id": "f0992efc-6df1-4d8b-a84f-4bdaaa425052",
   "metadata": {},
   "outputs": [
    {
     "data": {
      "text/plain": [
       "126.5269967"
      ]
     },
     "execution_count": 13,
     "metadata": {},
     "output_type": "execute_result"
    }
   ],
   "source": [
    "result.longitude"
   ]
  },
  {
   "cell_type": "code",
   "execution_count": 7,
   "id": "114fa7f8-7578-4ece-9228-e7af8bacb3dd",
   "metadata": {},
   "outputs": [],
   "source": [
    "####### 도로명주소 위도 경도 값으로 바꿔주기 ########\n",
    "from geopy.geocoders import Nominatim\n",
    "geo_local = Nominatim(user_agent='South Korea')\n",
    "\n",
    "# 위도, 경도 반환하는 함수\n",
    "def geocoding(address):\n",
    "    try:\n",
    "        geo = geo_local.geocode(address)\n",
    "        x_y = [geo.latitude, geo.longitude]\n",
    "        return x_y\n",
    "\n",
    "    except:\n",
    "        return [0,0]"
   ]
  },
  {
   "cell_type": "code",
   "execution_count": 8,
   "id": "7a2eed73-3242-43c5-8958-5957128db2ca",
   "metadata": {},
   "outputs": [
    {
     "data": {
      "text/plain": [
       "[33.506908, 126.5269967]"
      ]
     },
     "execution_count": 8,
     "metadata": {},
     "output_type": "execute_result"
    }
   ],
   "source": [
    "geocoding('제주특별자치도 제주시 중앙로25길 17')"
   ]
  },
  {
   "cell_type": "code",
   "execution_count": null,
   "id": "8c0726ce-53c3-47d0-af7e-bb3b17b15d13",
   "metadata": {},
   "outputs": [],
   "source": []
  }
 ],
 "metadata": {
  "kernelspec": {
   "display_name": "Python 3 (ipykernel)",
   "language": "python",
   "name": "python3"
  },
  "language_info": {
   "codemirror_mode": {
    "name": "ipython",
    "version": 3
   },
   "file_extension": ".py",
   "mimetype": "text/x-python",
   "name": "python",
   "nbconvert_exporter": "python",
   "pygments_lexer": "ipython3",
   "version": "3.9.15"
  }
 },
 "nbformat": 4,
 "nbformat_minor": 5
}
